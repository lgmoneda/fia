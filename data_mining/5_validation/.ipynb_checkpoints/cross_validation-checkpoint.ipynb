{
 "cells": [
  {
   "cell_type": "markdown",
   "metadata": {},
   "source": [
    "# Validação\n",
    "\n",
    "Neste notebook vamos explorar 3 opções de validação:\n",
    "\n",
    "1. Uma simples separação entre treino, validação e teste. \n",
    "2. A mesma separação, mas otimizando um parâmetro no conjunto de validação\n",
    "3. Usando K-fold com `k=5`"
   ]
  },
  {
   "cell_type": "code",
   "execution_count": 140,
   "metadata": {},
   "outputs": [],
   "source": [
    "import pandas as pd\n",
    "import numpy as np\n",
    "import matplotlib.pyplot as plt\n",
    "\n",
    "from sklearn.datasets import load_breast_cancer\n",
    "from sklearn.model_selection import train_test_split\n",
    "from sklearn.tree import DecisionTreeClassifier\n",
    "from sklearn.metrics import roc_auc_score\n",
    "from sklearn.model_selection import GridSearchCV\n",
    "from sklearn.metrics import make_scorer"
   ]
  },
  {
   "cell_type": "code",
   "execution_count": 121,
   "metadata": {},
   "outputs": [],
   "source": [
    "data = load_breast_cancer()"
   ]
  },
  {
   "cell_type": "code",
   "execution_count": 122,
   "metadata": {},
   "outputs": [
    {
     "data": {
      "text/plain": [
       "dict_keys(['data', 'target', 'target_names', 'DESCR', 'feature_names', 'filename'])"
      ]
     },
     "execution_count": 122,
     "metadata": {},
     "output_type": "execute_result"
    }
   ],
   "source": [
    "data.keys()"
   ]
  },
  {
   "cell_type": "code",
   "execution_count": 123,
   "metadata": {},
   "outputs": [],
   "source": [
    "X = pd.DataFrame.from_dict(data[\"data\"])\n",
    "X.rename(columns={i: data[\"feature_names\"][i] for i in range(len(data[\"feature_names\"]))},\n",
    "        inplace=True)\n",
    "y = pd.DataFrame.from_dict(data[\"target\"])"
   ]
  },
  {
   "cell_type": "code",
   "execution_count": 124,
   "metadata": {},
   "outputs": [
    {
     "name": "stdout",
     "output_type": "stream",
     "text": [
      "(569, 30)\n",
      "(569, 1)\n"
     ]
    }
   ],
   "source": [
    "print(X.shape)\n",
    "print(y.shape)"
   ]
  },
  {
   "cell_type": "code",
   "execution_count": 125,
   "metadata": {},
   "outputs": [],
   "source": [
    "X_train, X_prod, y_train, y_prod = train_test_split(X,\n",
    "                                                    y, \n",
    "                                                    test_size = 0.15,\n",
    "                                                    random_state=42)"
   ]
  },
  {
   "cell_type": "code",
   "execution_count": 126,
   "metadata": {},
   "outputs": [
    {
     "name": "stdout",
     "output_type": "stream",
     "text": [
      "(483, 30)\n",
      "(72, 30)\n"
     ]
    }
   ],
   "source": [
    "print(X_train.shape)\n",
    "print(X_test.shape)"
   ]
  },
  {
   "cell_type": "markdown",
   "metadata": {},
   "source": [
    "A partir daqui fingimos que 30% dos dados serão o que veremos em produção. "
   ]
  },
  {
   "cell_type": "code",
   "execution_count": 127,
   "metadata": {},
   "outputs": [],
   "source": [
    "X_train, X_test, y_train, y_test = train_test_split(X_train,\n",
    "                                                    y_train, \n",
    "                                                    test_size = 0.4,\n",
    "                                                    random_state=42)\n",
    "\n",
    "X_test, X_val, y_test, y_val = train_test_split(X_test, \n",
    "                                                y_test, \n",
    "                                                test_size = 0.5,\n",
    "                                                random_state=42)"
   ]
  },
  {
   "cell_type": "code",
   "execution_count": 128,
   "metadata": {},
   "outputs": [
    {
     "name": "stdout",
     "output_type": "stream",
     "text": [
      "Utilizando 289 dados de treino, 97 de validação e 97 de teste\n"
     ]
    }
   ],
   "source": [
    "print(\"Utilizando {} dados de treino, {} de validação e {} de teste\".format(len(X_train),\n",
    "                                                                           len(X_test),\n",
    "                                                                           len(X_val)))"
   ]
  },
  {
   "cell_type": "markdown",
   "metadata": {},
   "source": [
    "Nós vamos testar duas diferentes abordagens para estimar o desempenho em produção:"
   ]
  },
  {
   "cell_type": "code",
   "execution_count": 129,
   "metadata": {},
   "outputs": [
    {
     "data": {
      "text/plain": [
       "DecisionTreeClassifier(class_weight=None, criterion='gini', max_depth=None,\n",
       "            max_features=None, max_leaf_nodes=None,\n",
       "            min_impurity_decrease=0.0, min_impurity_split=None,\n",
       "            min_samples_leaf=1, min_samples_split=2,\n",
       "            min_weight_fraction_leaf=0.0, presort=False, random_state=None,\n",
       "            splitter='best')"
      ]
     },
     "execution_count": 129,
     "metadata": {},
     "output_type": "execute_result"
    }
   ],
   "source": [
    "model = DecisionTreeClassifier()\n",
    "model.fit(X_train, y_train)"
   ]
  },
  {
   "cell_type": "code",
   "execution_count": 130,
   "metadata": {},
   "outputs": [],
   "source": [
    "y_pred_val = model.predict(X_val)\n",
    "y_pred_test = model.predict(X_test)\n",
    "y_pred_prod = model.predict(X_prod)"
   ]
  },
  {
   "cell_type": "code",
   "execution_count": 131,
   "metadata": {},
   "outputs": [
    {
     "name": "stdout",
     "output_type": "stream",
     "text": [
      "Desempenho na validação: 0.8608385370205174\n",
      "Desempenho no test: 0.9364613880742912\n",
      "Desempenho em produção: 0.8663194444444444\n"
     ]
    }
   ],
   "source": [
    "print(\"Desempenho na validação: {}\".format(roc_auc_score(y_val, y_pred_val))) \n",
    "print(\"Desempenho no test: {}\".format(roc_auc_score(y_test, y_pred_test))) \n",
    "print(\"Desempenho em produção: {}\".format(roc_auc_score(y_prod, y_pred_prod))) "
   ]
  },
  {
   "cell_type": "markdown",
   "metadata": {},
   "source": [
    "## Otimizando hiper parâmetros"
   ]
  },
  {
   "cell_type": "code",
   "execution_count": 132,
   "metadata": {},
   "outputs": [
    {
     "name": "stdout",
     "output_type": "stream",
     "text": [
      "Desempenho na validação: 0.8646297948260483\n",
      "Desempenho na validação: 0.8994201605709188\n",
      "Desempenho na validação: 0.8777876895628903\n",
      "Desempenho na validação: 0.835414808206958\n",
      "Desempenho na validação: 0.8222569134701159\n",
      "Desempenho na validação: 0.8222569134701159\n",
      "Desempenho na validação: 0.8222569134701159\n",
      "Desempenho na validação: 0.8222569134701159\n",
      "Desempenho na validação: 0.8222569134701159\n",
      "A melhor max_depth é 2\n"
     ]
    }
   ],
   "source": [
    "param_grid = {\"max_depth\": [1, 2, 3, 4, 5, 10, 15, 20, 100]}\n",
    "\n",
    "validation_aucs = []\n",
    "\n",
    "for max_depth in param_grid[\"max_depth\"]:\n",
    "    model = DecisionTreeClassifier(max_depth=max_depth, \n",
    "                                   min_samples_split=5,\n",
    "                                   random_state=42)\n",
    "    model.fit(X_train, y_train)\n",
    "    y_pred_val = model.predict(X_val)\n",
    "    y_pred_test = model.predict(X_test)\n",
    "    y_pred_prod = model.predict(X_prod)\n",
    "    \n",
    "    validation_aucs.append(roc_auc_score(y_val, y_pred_val))\n",
    "    print(\"Desempenho na validação: {}\".format(roc_auc_score(y_val, y_pred_val))) \n",
    "\n",
    "print(\"A melhor max_depth é {}\".format(param_grid[\"max_depth\"][np.argmax(validation_aucs)]))"
   ]
  },
  {
   "cell_type": "code",
   "execution_count": 137,
   "metadata": {},
   "outputs": [
    {
     "data": {
      "image/png": "[encoded data removed]",
      "text/plain": [
       "<Figure size 432x288 with 1 Axes>"
      ]
     },
     "metadata": {
      "needs_background": "light"
     },
     "output_type": "display_data"
    }
   ],
   "source": [
    "plt.plot(validation_aucs)\n",
    "plt.title(\"AUC no conjunto de validação por profundidade máxima\")\n",
    "plt.xlabel(\"Profundidade máxima\")\n",
    "plt.ylabel(\"AUC\")\n",
    "plt.show()"
   ]
  },
  {
   "cell_type": "code",
   "execution_count": 135,
   "metadata": {},
   "outputs": [
    {
     "name": "stdout",
     "output_type": "stream",
     "text": [
      "Desempenho na validação: 0.8994201605709188\n",
      "Desempenho no test: 0.9193548387096775\n",
      "Desempenho em produção: 0.9126157407407407\n"
     ]
    }
   ],
   "source": [
    "model = DecisionTreeClassifier(max_depth=param_grid[\"max_depth\"][np.argmax(validation_aucs)])\n",
    "model.fit(X_train, y_train)\n",
    "y_pred_val = model.predict(X_val)\n",
    "y_pred_test = model.predict(X_test)\n",
    "y_pred_prod = model.predict(X_prod)\n",
    "print(\"Desempenho na validação: {}\".format(roc_auc_score(y_val, y_pred_val))) \n",
    "print(\"Desempenho no test: {}\".format(roc_auc_score(y_test, y_pred_test))) \n",
    "print(\"Desempenho em produção: {}\".format(roc_auc_score(y_prod, y_pred_prod))) "
   ]
  },
  {
   "cell_type": "markdown",
   "metadata": {},
   "source": [
    "## Usando GridSearchCV"
   ]
  },
  {
   "cell_type": "code",
   "execution_count": 141,
   "metadata": {},
   "outputs": [
    {
     "name": "stderr",
     "output_type": "stream",
     "text": [
      "/Users/lgmoneda/miniconda2/envs/fia/lib/python3.6/site-packages/sklearn/model_selection/_search.py:841: DeprecationWarning: The default of the `iid` parameter will change from True to False in version 0.22 and will be removed in 0.24. This will change numeric results when test-set sizes are unequal.\n",
      "  DeprecationWarning)\n"
     ]
    },
    {
     "data": {
      "text/plain": [
       "GridSearchCV(cv=5, error_score='raise-deprecating',\n",
       "       estimator=DecisionTreeClassifier(class_weight=None, criterion='gini', max_depth=None,\n",
       "            max_features=None, max_leaf_nodes=None,\n",
       "            min_impurity_decrease=0.0, min_impurity_split=None,\n",
       "            min_samples_leaf=1, min_samples_split=2,\n",
       "            min_weight_fraction_leaf=0.0, presort=False, random_state=None,\n",
       "            splitter='best'),\n",
       "       fit_params=None, iid='warn', n_jobs=None,\n",
       "       param_grid={'max_depth': [1, 2, 3, 4, 5, 10, 15, 20, 100]},\n",
       "       pre_dispatch='2*n_jobs', refit=True, return_train_score='warn',\n",
       "       scoring=make_scorer(roc_auc_score), verbose=0)"
      ]
     },
     "execution_count": 141,
     "metadata": {},
     "output_type": "execute_result"
    }
   ],
   "source": [
    "model = DecisionTreeClassifier()\n",
    "X = pd.concat([X_train, X_val])\n",
    "y = pd.concat([y_train, y_val])\n",
    "\n",
    "auc_scorer = make_scorer(roc_auc_score)\n",
    "\n",
    "grid = GridSearchCV(model, param_grid=param_grid, scoring=auc_scorer, cv=5)\n",
    "grid.fit(X, y)"
   ]
  },
  {
   "cell_type": "code",
   "execution_count": 142,
   "metadata": {},
   "outputs": [
    {
     "data": {
      "text/plain": [
       "DecisionTreeClassifier(class_weight=None, criterion='gini', max_depth=3,\n",
       "            max_features=None, max_leaf_nodes=None,\n",
       "            min_impurity_decrease=0.0, min_impurity_split=None,\n",
       "            min_samples_leaf=1, min_samples_split=2,\n",
       "            min_weight_fraction_leaf=0.0, presort=False, random_state=None,\n",
       "            splitter='best')"
      ]
     },
     "execution_count": 142,
     "metadata": {},
     "output_type": "execute_result"
    }
   ],
   "source": [
    "grid.best_estimator_"
   ]
  },
  {
   "cell_type": "code",
   "execution_count": 143,
   "metadata": {},
   "outputs": [
    {
     "name": "stdout",
     "output_type": "stream",
     "text": [
      "Desempenho no test: 0.9279081133919844\n",
      "Desempenho em produção: 0.9282407407407407\n"
     ]
    }
   ],
   "source": [
    "model = grid.best_estimator_\n",
    "model.fit(X, y)\n",
    "\n",
    "y_pred_test = model.predict(X_test)\n",
    "y_pred_prod = model.predict(X_prod)\n",
    "\n",
    "print(\"Desempenho no test: {}\".format(roc_auc_score(y_test, y_pred_test))) \n",
    "print(\"Desempenho em produção: {}\".format(roc_auc_score(y_prod, y_pred_prod))) "
   ]
  }
 ],
 "metadata": {
  "kernelspec": {
   "display_name": "fia",
   "language": "python",
   "name": "python3"
  },
  "language_info": {
   "codemirror_mode": {
    "name": "ipython",
    "version": 3
   },
   "file_extension": ".py",
   "mimetype": "text/x-python",
   "name": "python",
   "nbconvert_exporter": "python",
   "pygments_lexer": "ipython3",
   "version": "3.6.0"
  }
 },
 "nbformat": 4,
 "nbformat_minor": 2
}
