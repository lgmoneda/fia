{
 "cells": [
  {
   "cell_type": "code",
   "execution_count": 1,
   "metadata": {
    "collapsed": true
   },
   "outputs": [],
   "source": [
    "import pandas as pd"
   ]
  },
  {
   "cell_type": "code",
   "execution_count": 2,
   "metadata": {
    "collapsed": true
   },
   "outputs": [],
   "source": [
    "data = pd.read_csv(\"data/base_gastos_cartao.csv\")"
   ]
  },
  {
   "cell_type": "code",
   "execution_count": 3,
   "metadata": {},
   "outputs": [
    {
     "data": {
      "text/plain": [
       "Index(['Gastos_Cartao', 'Idade', 'Renda', 'Impostos', 'Segmento'], dtype='object')"
      ]
     },
     "execution_count": 3,
     "metadata": {},
     "output_type": "execute_result"
    }
   ],
   "source": [
    "data.columns"
   ]
  },
  {
   "cell_type": "code",
   "execution_count": 4,
   "metadata": {},
   "outputs": [
    {
     "data": {
      "text/html": [
       "<div>\n",
       "<style scoped>\n",
       "    .dataframe tbody tr th:only-of-type {\n",
       "        vertical-align: middle;\n",
       "    }\n",
       "\n",
       "    .dataframe tbody tr th {\n",
       "        vertical-align: top;\n",
       "    }\n",
       "\n",
       "    .dataframe thead th {\n",
       "        text-align: right;\n",
       "    }\n",
       "</style>\n",
       "<table border=\"1\" class=\"dataframe\">\n",
       "  <thead>\n",
       "    <tr style=\"text-align: right;\">\n",
       "      <th></th>\n",
       "      <th>Gastos_Cartao</th>\n",
       "      <th>Renda</th>\n",
       "      <th>Idade</th>\n",
       "    </tr>\n",
       "  </thead>\n",
       "  <tbody>\n",
       "    <tr>\n",
       "      <th>0</th>\n",
       "      <td>510</td>\n",
       "      <td>1120</td>\n",
       "      <td>35</td>\n",
       "    </tr>\n",
       "    <tr>\n",
       "      <th>1</th>\n",
       "      <td>490</td>\n",
       "      <td>1120</td>\n",
       "      <td>30</td>\n",
       "    </tr>\n",
       "    <tr>\n",
       "      <th>2</th>\n",
       "      <td>470</td>\n",
       "      <td>1040</td>\n",
       "      <td>32</td>\n",
       "    </tr>\n",
       "    <tr>\n",
       "      <th>3</th>\n",
       "      <td>460</td>\n",
       "      <td>1200</td>\n",
       "      <td>31</td>\n",
       "    </tr>\n",
       "    <tr>\n",
       "      <th>4</th>\n",
       "      <td>500</td>\n",
       "      <td>1120</td>\n",
       "      <td>36</td>\n",
       "    </tr>\n",
       "  </tbody>\n",
       "</table>\n",
       "</div>"
      ],
      "text/plain": [
       "   Gastos_Cartao  Renda  Idade\n",
       "0            510   1120     35\n",
       "1            490   1120     30\n",
       "2            470   1040     32\n",
       "3            460   1200     31\n",
       "4            500   1120     36"
      ]
     },
     "execution_count": 4,
     "metadata": {},
     "output_type": "execute_result"
    }
   ],
   "source": [
    "data[[\"Gastos_Cartao\", \"Renda\", \"Idade\"]].head()"
   ]
  },
  {
   "cell_type": "code",
   "execution_count": 5,
   "metadata": {},
   "outputs": [
    {
     "data": {
      "text/plain": [
       "Gastos_Cartao     584.333333\n",
       "Renda            3006.400000\n",
       "Idade              30.573333\n",
       "dtype: float64"
      ]
     },
     "execution_count": 5,
     "metadata": {},
     "output_type": "execute_result"
    }
   ],
   "source": [
    "data[[\"Gastos_Cartao\", \"Renda\", \"Idade\"]].mean()"
   ]
  },
  {
   "cell_type": "code",
   "execution_count": 6,
   "metadata": {},
   "outputs": [
    {
     "data": {
      "text/plain": [
       "Gastos_Cartao      82.806613\n",
       "Renda            1412.238587\n",
       "Idade               4.358663\n",
       "dtype: float64"
      ]
     },
     "execution_count": 6,
     "metadata": {},
     "output_type": "execute_result"
    }
   ],
   "source": [
    "data[[\"Gastos_Cartao\", \"Renda\", \"Idade\"]].std()"
   ]
  },
  {
   "cell_type": "code",
   "execution_count": 7,
   "metadata": {},
   "outputs": [
    {
     "data": {
      "text/plain": [
       "Gastos_Cartao     790\n",
       "Renda            5520\n",
       "Idade              44\n",
       "dtype: int64"
      ]
     },
     "execution_count": 7,
     "metadata": {},
     "output_type": "execute_result"
    }
   ],
   "source": [
    "data[[\"Gastos_Cartao\", \"Renda\", \"Idade\"]].max()"
   ]
  },
  {
   "cell_type": "code",
   "execution_count": 8,
   "metadata": {},
   "outputs": [
    {
     "data": {
      "text/html": [
       "<div>\n",
       "<style scoped>\n",
       "    .dataframe tbody tr th:only-of-type {\n",
       "        vertical-align: middle;\n",
       "    }\n",
       "\n",
       "    .dataframe tbody tr th {\n",
       "        vertical-align: top;\n",
       "    }\n",
       "\n",
       "    .dataframe thead th {\n",
       "        text-align: right;\n",
       "    }\n",
       "</style>\n",
       "<table border=\"1\" class=\"dataframe\">\n",
       "  <thead>\n",
       "    <tr style=\"text-align: right;\">\n",
       "      <th></th>\n",
       "      <th>Gastos_Cartao</th>\n",
       "      <th>Renda</th>\n",
       "      <th>Idade</th>\n",
       "    </tr>\n",
       "  </thead>\n",
       "  <tbody>\n",
       "    <tr>\n",
       "      <th>count</th>\n",
       "      <td>150.000000</td>\n",
       "      <td>150.000000</td>\n",
       "      <td>150.000000</td>\n",
       "    </tr>\n",
       "    <tr>\n",
       "      <th>mean</th>\n",
       "      <td>584.333333</td>\n",
       "      <td>3006.400000</td>\n",
       "      <td>30.573333</td>\n",
       "    </tr>\n",
       "    <tr>\n",
       "      <th>std</th>\n",
       "      <td>82.806613</td>\n",
       "      <td>1412.238587</td>\n",
       "      <td>4.358663</td>\n",
       "    </tr>\n",
       "    <tr>\n",
       "      <th>min</th>\n",
       "      <td>430.000000</td>\n",
       "      <td>800.000000</td>\n",
       "      <td>20.000000</td>\n",
       "    </tr>\n",
       "    <tr>\n",
       "      <th>25%</th>\n",
       "      <td>510.000000</td>\n",
       "      <td>1280.000000</td>\n",
       "      <td>28.000000</td>\n",
       "    </tr>\n",
       "    <tr>\n",
       "      <th>50%</th>\n",
       "      <td>580.000000</td>\n",
       "      <td>3480.000000</td>\n",
       "      <td>30.000000</td>\n",
       "    </tr>\n",
       "    <tr>\n",
       "      <th>75%</th>\n",
       "      <td>640.000000</td>\n",
       "      <td>4080.000000</td>\n",
       "      <td>33.000000</td>\n",
       "    </tr>\n",
       "    <tr>\n",
       "      <th>max</th>\n",
       "      <td>790.000000</td>\n",
       "      <td>5520.000000</td>\n",
       "      <td>44.000000</td>\n",
       "    </tr>\n",
       "  </tbody>\n",
       "</table>\n",
       "</div>"
      ],
      "text/plain": [
       "       Gastos_Cartao        Renda       Idade\n",
       "count     150.000000   150.000000  150.000000\n",
       "mean      584.333333  3006.400000   30.573333\n",
       "std        82.806613  1412.238587    4.358663\n",
       "min       430.000000   800.000000   20.000000\n",
       "25%       510.000000  1280.000000   28.000000\n",
       "50%       580.000000  3480.000000   30.000000\n",
       "75%       640.000000  4080.000000   33.000000\n",
       "max       790.000000  5520.000000   44.000000"
      ]
     },
     "execution_count": 8,
     "metadata": {},
     "output_type": "execute_result"
    }
   ],
   "source": [
    "data[[\"Gastos_Cartao\", \"Renda\", \"Idade\"]].describe()"
   ]
  },
  {
   "cell_type": "code",
   "execution_count": 9,
   "metadata": {
    "collapsed": true
   },
   "outputs": [],
   "source": [
    "colunas_interesse = [\"Gastos_Cartao\", \"Renda\", \"Idade\"]\n"
   ]
  },
  {
   "cell_type": "code",
   "execution_count": 10,
   "metadata": {},
   "outputs": [
    {
     "data": {
      "text/html": [
       "<div>\n",
       "<style scoped>\n",
       "    .dataframe tbody tr th:only-of-type {\n",
       "        vertical-align: middle;\n",
       "    }\n",
       "\n",
       "    .dataframe tbody tr th {\n",
       "        vertical-align: top;\n",
       "    }\n",
       "\n",
       "    .dataframe thead th {\n",
       "        text-align: right;\n",
       "    }\n",
       "</style>\n",
       "<table border=\"1\" class=\"dataframe\">\n",
       "  <thead>\n",
       "    <tr style=\"text-align: right;\">\n",
       "      <th></th>\n",
       "      <th>Gastos_Cartao</th>\n",
       "      <th>Idade</th>\n",
       "      <th>Renda</th>\n",
       "      <th>Impostos</th>\n",
       "      <th>Segmento</th>\n",
       "    </tr>\n",
       "  </thead>\n",
       "  <tbody>\n",
       "    <tr>\n",
       "      <th>50</th>\n",
       "      <td>700</td>\n",
       "      <td>32</td>\n",
       "      <td>3760</td>\n",
       "      <td>420</td>\n",
       "      <td>B</td>\n",
       "    </tr>\n",
       "    <tr>\n",
       "      <th>51</th>\n",
       "      <td>640</td>\n",
       "      <td>32</td>\n",
       "      <td>3600</td>\n",
       "      <td>450</td>\n",
       "      <td>B</td>\n",
       "    </tr>\n",
       "    <tr>\n",
       "      <th>52</th>\n",
       "      <td>690</td>\n",
       "      <td>31</td>\n",
       "      <td>3920</td>\n",
       "      <td>450</td>\n",
       "      <td>B</td>\n",
       "    </tr>\n",
       "    <tr>\n",
       "      <th>53</th>\n",
       "      <td>550</td>\n",
       "      <td>23</td>\n",
       "      <td>3200</td>\n",
       "      <td>390</td>\n",
       "      <td>B</td>\n",
       "    </tr>\n",
       "    <tr>\n",
       "      <th>54</th>\n",
       "      <td>650</td>\n",
       "      <td>28</td>\n",
       "      <td>3680</td>\n",
       "      <td>450</td>\n",
       "      <td>B</td>\n",
       "    </tr>\n",
       "    <tr>\n",
       "      <th>55</th>\n",
       "      <td>570</td>\n",
       "      <td>28</td>\n",
       "      <td>3600</td>\n",
       "      <td>390</td>\n",
       "      <td>B</td>\n",
       "    </tr>\n",
       "    <tr>\n",
       "      <th>56</th>\n",
       "      <td>630</td>\n",
       "      <td>33</td>\n",
       "      <td>3760</td>\n",
       "      <td>480</td>\n",
       "      <td>B</td>\n",
       "    </tr>\n",
       "    <tr>\n",
       "      <th>57</th>\n",
       "      <td>490</td>\n",
       "      <td>24</td>\n",
       "      <td>2640</td>\n",
       "      <td>300</td>\n",
       "      <td>B</td>\n",
       "    </tr>\n",
       "    <tr>\n",
       "      <th>58</th>\n",
       "      <td>660</td>\n",
       "      <td>29</td>\n",
       "      <td>3680</td>\n",
       "      <td>390</td>\n",
       "      <td>B</td>\n",
       "    </tr>\n",
       "    <tr>\n",
       "      <th>59</th>\n",
       "      <td>520</td>\n",
       "      <td>27</td>\n",
       "      <td>3120</td>\n",
       "      <td>420</td>\n",
       "      <td>B</td>\n",
       "    </tr>\n",
       "    <tr>\n",
       "      <th>60</th>\n",
       "      <td>500</td>\n",
       "      <td>20</td>\n",
       "      <td>2800</td>\n",
       "      <td>300</td>\n",
       "      <td>B</td>\n",
       "    </tr>\n",
       "    <tr>\n",
       "      <th>61</th>\n",
       "      <td>590</td>\n",
       "      <td>30</td>\n",
       "      <td>3360</td>\n",
       "      <td>450</td>\n",
       "      <td>B</td>\n",
       "    </tr>\n",
       "    <tr>\n",
       "      <th>62</th>\n",
       "      <td>600</td>\n",
       "      <td>22</td>\n",
       "      <td>3200</td>\n",
       "      <td>300</td>\n",
       "      <td>B</td>\n",
       "    </tr>\n",
       "    <tr>\n",
       "      <th>63</th>\n",
       "      <td>610</td>\n",
       "      <td>29</td>\n",
       "      <td>3760</td>\n",
       "      <td>420</td>\n",
       "      <td>B</td>\n",
       "    </tr>\n",
       "    <tr>\n",
       "      <th>64</th>\n",
       "      <td>560</td>\n",
       "      <td>29</td>\n",
       "      <td>2880</td>\n",
       "      <td>390</td>\n",
       "      <td>B</td>\n",
       "    </tr>\n",
       "    <tr>\n",
       "      <th>65</th>\n",
       "      <td>670</td>\n",
       "      <td>31</td>\n",
       "      <td>3520</td>\n",
       "      <td>420</td>\n",
       "      <td>B</td>\n",
       "    </tr>\n",
       "    <tr>\n",
       "      <th>66</th>\n",
       "      <td>560</td>\n",
       "      <td>30</td>\n",
       "      <td>3600</td>\n",
       "      <td>450</td>\n",
       "      <td>B</td>\n",
       "    </tr>\n",
       "    <tr>\n",
       "      <th>67</th>\n",
       "      <td>580</td>\n",
       "      <td>27</td>\n",
       "      <td>3280</td>\n",
       "      <td>300</td>\n",
       "      <td>B</td>\n",
       "    </tr>\n",
       "    <tr>\n",
       "      <th>68</th>\n",
       "      <td>620</td>\n",
       "      <td>22</td>\n",
       "      <td>3600</td>\n",
       "      <td>450</td>\n",
       "      <td>B</td>\n",
       "    </tr>\n",
       "    <tr>\n",
       "      <th>69</th>\n",
       "      <td>560</td>\n",
       "      <td>25</td>\n",
       "      <td>3120</td>\n",
       "      <td>330</td>\n",
       "      <td>B</td>\n",
       "    </tr>\n",
       "    <tr>\n",
       "      <th>70</th>\n",
       "      <td>590</td>\n",
       "      <td>32</td>\n",
       "      <td>3840</td>\n",
       "      <td>540</td>\n",
       "      <td>B</td>\n",
       "    </tr>\n",
       "    <tr>\n",
       "      <th>71</th>\n",
       "      <td>610</td>\n",
       "      <td>28</td>\n",
       "      <td>3200</td>\n",
       "      <td>390</td>\n",
       "      <td>B</td>\n",
       "    </tr>\n",
       "    <tr>\n",
       "      <th>72</th>\n",
       "      <td>630</td>\n",
       "      <td>25</td>\n",
       "      <td>3920</td>\n",
       "      <td>450</td>\n",
       "      <td>B</td>\n",
       "    </tr>\n",
       "    <tr>\n",
       "      <th>73</th>\n",
       "      <td>610</td>\n",
       "      <td>28</td>\n",
       "      <td>3760</td>\n",
       "      <td>360</td>\n",
       "      <td>B</td>\n",
       "    </tr>\n",
       "    <tr>\n",
       "      <th>74</th>\n",
       "      <td>640</td>\n",
       "      <td>29</td>\n",
       "      <td>3440</td>\n",
       "      <td>390</td>\n",
       "      <td>B</td>\n",
       "    </tr>\n",
       "    <tr>\n",
       "      <th>75</th>\n",
       "      <td>660</td>\n",
       "      <td>30</td>\n",
       "      <td>3520</td>\n",
       "      <td>420</td>\n",
       "      <td>B</td>\n",
       "    </tr>\n",
       "    <tr>\n",
       "      <th>76</th>\n",
       "      <td>680</td>\n",
       "      <td>28</td>\n",
       "      <td>3840</td>\n",
       "      <td>420</td>\n",
       "      <td>B</td>\n",
       "    </tr>\n",
       "    <tr>\n",
       "      <th>77</th>\n",
       "      <td>670</td>\n",
       "      <td>30</td>\n",
       "      <td>4000</td>\n",
       "      <td>510</td>\n",
       "      <td>B</td>\n",
       "    </tr>\n",
       "    <tr>\n",
       "      <th>78</th>\n",
       "      <td>600</td>\n",
       "      <td>29</td>\n",
       "      <td>3600</td>\n",
       "      <td>450</td>\n",
       "      <td>B</td>\n",
       "    </tr>\n",
       "    <tr>\n",
       "      <th>79</th>\n",
       "      <td>570</td>\n",
       "      <td>26</td>\n",
       "      <td>2800</td>\n",
       "      <td>300</td>\n",
       "      <td>B</td>\n",
       "    </tr>\n",
       "    <tr>\n",
       "      <th>80</th>\n",
       "      <td>550</td>\n",
       "      <td>24</td>\n",
       "      <td>3040</td>\n",
       "      <td>330</td>\n",
       "      <td>B</td>\n",
       "    </tr>\n",
       "    <tr>\n",
       "      <th>81</th>\n",
       "      <td>550</td>\n",
       "      <td>24</td>\n",
       "      <td>2960</td>\n",
       "      <td>300</td>\n",
       "      <td>B</td>\n",
       "    </tr>\n",
       "    <tr>\n",
       "      <th>82</th>\n",
       "      <td>580</td>\n",
       "      <td>27</td>\n",
       "      <td>3120</td>\n",
       "      <td>360</td>\n",
       "      <td>B</td>\n",
       "    </tr>\n",
       "    <tr>\n",
       "      <th>83</th>\n",
       "      <td>600</td>\n",
       "      <td>27</td>\n",
       "      <td>4080</td>\n",
       "      <td>480</td>\n",
       "      <td>B</td>\n",
       "    </tr>\n",
       "    <tr>\n",
       "      <th>84</th>\n",
       "      <td>540</td>\n",
       "      <td>30</td>\n",
       "      <td>3600</td>\n",
       "      <td>450</td>\n",
       "      <td>B</td>\n",
       "    </tr>\n",
       "    <tr>\n",
       "      <th>85</th>\n",
       "      <td>600</td>\n",
       "      <td>34</td>\n",
       "      <td>3600</td>\n",
       "      <td>480</td>\n",
       "      <td>B</td>\n",
       "    </tr>\n",
       "    <tr>\n",
       "      <th>86</th>\n",
       "      <td>670</td>\n",
       "      <td>31</td>\n",
       "      <td>3760</td>\n",
       "      <td>450</td>\n",
       "      <td>B</td>\n",
       "    </tr>\n",
       "    <tr>\n",
       "      <th>87</th>\n",
       "      <td>630</td>\n",
       "      <td>23</td>\n",
       "      <td>3520</td>\n",
       "      <td>390</td>\n",
       "      <td>B</td>\n",
       "    </tr>\n",
       "    <tr>\n",
       "      <th>88</th>\n",
       "      <td>560</td>\n",
       "      <td>30</td>\n",
       "      <td>3280</td>\n",
       "      <td>390</td>\n",
       "      <td>B</td>\n",
       "    </tr>\n",
       "    <tr>\n",
       "      <th>89</th>\n",
       "      <td>550</td>\n",
       "      <td>25</td>\n",
       "      <td>3200</td>\n",
       "      <td>390</td>\n",
       "      <td>B</td>\n",
       "    </tr>\n",
       "    <tr>\n",
       "      <th>90</th>\n",
       "      <td>550</td>\n",
       "      <td>26</td>\n",
       "      <td>3520</td>\n",
       "      <td>360</td>\n",
       "      <td>B</td>\n",
       "    </tr>\n",
       "    <tr>\n",
       "      <th>91</th>\n",
       "      <td>610</td>\n",
       "      <td>30</td>\n",
       "      <td>3680</td>\n",
       "      <td>420</td>\n",
       "      <td>B</td>\n",
       "    </tr>\n",
       "    <tr>\n",
       "      <th>92</th>\n",
       "      <td>580</td>\n",
       "      <td>26</td>\n",
       "      <td>3200</td>\n",
       "      <td>360</td>\n",
       "      <td>B</td>\n",
       "    </tr>\n",
       "    <tr>\n",
       "      <th>93</th>\n",
       "      <td>500</td>\n",
       "      <td>23</td>\n",
       "      <td>2640</td>\n",
       "      <td>300</td>\n",
       "      <td>B</td>\n",
       "    </tr>\n",
       "    <tr>\n",
       "      <th>94</th>\n",
       "      <td>560</td>\n",
       "      <td>27</td>\n",
       "      <td>3360</td>\n",
       "      <td>390</td>\n",
       "      <td>B</td>\n",
       "    </tr>\n",
       "    <tr>\n",
       "      <th>95</th>\n",
       "      <td>570</td>\n",
       "      <td>30</td>\n",
       "      <td>3360</td>\n",
       "      <td>360</td>\n",
       "      <td>B</td>\n",
       "    </tr>\n",
       "    <tr>\n",
       "      <th>96</th>\n",
       "      <td>570</td>\n",
       "      <td>29</td>\n",
       "      <td>3360</td>\n",
       "      <td>390</td>\n",
       "      <td>B</td>\n",
       "    </tr>\n",
       "    <tr>\n",
       "      <th>97</th>\n",
       "      <td>620</td>\n",
       "      <td>29</td>\n",
       "      <td>3440</td>\n",
       "      <td>390</td>\n",
       "      <td>B</td>\n",
       "    </tr>\n",
       "    <tr>\n",
       "      <th>98</th>\n",
       "      <td>510</td>\n",
       "      <td>25</td>\n",
       "      <td>2400</td>\n",
       "      <td>330</td>\n",
       "      <td>B</td>\n",
       "    </tr>\n",
       "    <tr>\n",
       "      <th>99</th>\n",
       "      <td>570</td>\n",
       "      <td>28</td>\n",
       "      <td>3280</td>\n",
       "      <td>390</td>\n",
       "      <td>B</td>\n",
       "    </tr>\n",
       "  </tbody>\n",
       "</table>\n",
       "</div>"
      ],
      "text/plain": [
       "    Gastos_Cartao  Idade  Renda  Impostos Segmento\n",
       "50            700     32   3760       420        B\n",
       "51            640     32   3600       450        B\n",
       "52            690     31   3920       450        B\n",
       "53            550     23   3200       390        B\n",
       "54            650     28   3680       450        B\n",
       "55            570     28   3600       390        B\n",
       "56            630     33   3760       480        B\n",
       "57            490     24   2640       300        B\n",
       "58            660     29   3680       390        B\n",
       "59            520     27   3120       420        B\n",
       "60            500     20   2800       300        B\n",
       "61            590     30   3360       450        B\n",
       "62            600     22   3200       300        B\n",
       "63            610     29   3760       420        B\n",
       "64            560     29   2880       390        B\n",
       "65            670     31   3520       420        B\n",
       "66            560     30   3600       450        B\n",
       "67            580     27   3280       300        B\n",
       "68            620     22   3600       450        B\n",
       "69            560     25   3120       330        B\n",
       "70            590     32   3840       540        B\n",
       "71            610     28   3200       390        B\n",
       "72            630     25   3920       450        B\n",
       "73            610     28   3760       360        B\n",
       "74            640     29   3440       390        B\n",
       "75            660     30   3520       420        B\n",
       "76            680     28   3840       420        B\n",
       "77            670     30   4000       510        B\n",
       "78            600     29   3600       450        B\n",
       "79            570     26   2800       300        B\n",
       "80            550     24   3040       330        B\n",
       "81            550     24   2960       300        B\n",
       "82            580     27   3120       360        B\n",
       "83            600     27   4080       480        B\n",
       "84            540     30   3600       450        B\n",
       "85            600     34   3600       480        B\n",
       "86            670     31   3760       450        B\n",
       "87            630     23   3520       390        B\n",
       "88            560     30   3280       390        B\n",
       "89            550     25   3200       390        B\n",
       "90            550     26   3520       360        B\n",
       "91            610     30   3680       420        B\n",
       "92            580     26   3200       360        B\n",
       "93            500     23   2640       300        B\n",
       "94            560     27   3360       390        B\n",
       "95            570     30   3360       360        B\n",
       "96            570     29   3360       390        B\n",
       "97            620     29   3440       390        B\n",
       "98            510     25   2400       330        B\n",
       "99            570     28   3280       390        B"
      ]
     },
     "execution_count": 10,
     "metadata": {},
     "output_type": "execute_result"
    }
   ],
   "source": [
    "#data.loc[data[\"Segmento\"] == \"B\"]\n",
    "data[data[\"Segmento\"] == \"B\"]"
   ]
  },
  {
   "cell_type": "code",
   "execution_count": 11,
   "metadata": {},
   "outputs": [
    {
     "data": {
      "text/plain": [
       "0      False\n",
       "1      False\n",
       "2      False\n",
       "3      False\n",
       "4      False\n",
       "5      False\n",
       "6      False\n",
       "7      False\n",
       "8      False\n",
       "9      False\n",
       "10     False\n",
       "11     False\n",
       "12     False\n",
       "13     False\n",
       "14     False\n",
       "15     False\n",
       "16     False\n",
       "17     False\n",
       "18     False\n",
       "19     False\n",
       "20     False\n",
       "21     False\n",
       "22     False\n",
       "23     False\n",
       "24     False\n",
       "25     False\n",
       "26     False\n",
       "27     False\n",
       "28     False\n",
       "29     False\n",
       "       ...  \n",
       "120    False\n",
       "121    False\n",
       "122    False\n",
       "123    False\n",
       "124    False\n",
       "125    False\n",
       "126    False\n",
       "127    False\n",
       "128    False\n",
       "129    False\n",
       "130    False\n",
       "131    False\n",
       "132    False\n",
       "133    False\n",
       "134    False\n",
       "135    False\n",
       "136    False\n",
       "137    False\n",
       "138    False\n",
       "139    False\n",
       "140    False\n",
       "141    False\n",
       "142    False\n",
       "143    False\n",
       "144    False\n",
       "145    False\n",
       "146    False\n",
       "147    False\n",
       "148    False\n",
       "149    False\n",
       "Length: 150, dtype: bool"
      ]
     },
     "execution_count": 11,
     "metadata": {},
     "output_type": "execute_result"
    }
   ],
   "source": [
    "(data[\"Segmento\"] == \"B\") & (data[\"Idade\"] >= 22)"
   ]
  },
  {
   "cell_type": "code",
   "execution_count": 12,
   "metadata": {},
   "outputs": [
    {
     "data": {
      "text/plain": [
       "['Gastos_Cartao', 'Renda', 'Idade']"
      ]
     },
     "execution_count": 12,
     "metadata": {},
     "output_type": "execute_result"
    }
   ],
   "source": [
    "colunas_interesse"
   ]
  },
  {
   "cell_type": "code",
   "execution_count": 13,
   "metadata": {},
   "outputs": [
    {
     "data": {
      "text/plain": [
       "Gastos_Cartao     593.6\n",
       "Renda            3408.0\n",
       "Idade              27.7\n",
       "dtype: float64"
      ]
     },
     "execution_count": 13,
     "metadata": {},
     "output_type": "execute_result"
    }
   ],
   "source": [
    "data[data[\"Segmento\"] == \"B\"][colunas_interesse].mean()"
   ]
  },
  {
   "cell_type": "code",
   "execution_count": 14,
   "metadata": {},
   "outputs": [
    {
     "data": {
      "text/plain": [
       "Gastos_Cartao     584.333333\n",
       "Renda            3006.400000\n",
       "Idade              30.573333\n",
       "dtype: float64"
      ]
     },
     "execution_count": 14,
     "metadata": {},
     "output_type": "execute_result"
    }
   ],
   "source": [
    "data[colunas_interesse].mean()"
   ]
  },
  {
   "cell_type": "code",
   "execution_count": 28,
   "metadata": {
    "collapsed": true
   },
   "outputs": [],
   "source": [
    "def primeiro_determinacao(angulo):\n",
    "    return angulo % 360"
   ]
  },
  {
   "cell_type": "code",
   "execution_count": 29,
   "metadata": {
    "collapsed": true
   },
   "outputs": [],
   "source": [
    "def quadrante(angulo):\n",
    "    \n",
    "    angulo = primeiro_determinacao(angulo)\n",
    "    \n",
    "    if angulo >= 0 and angulo < 90:\n",
    "        print(\"Quadrante 1\")\n",
    "    elif angulo >= 90 and angulo < 180:\n",
    "        print(\"Quadrante 2\")\n",
    "    elif angulo >= 180 and angulo < 270:\n",
    "        print(\"Quadrante 3\")\n",
    "    elif angulo >= 270 and angulo < 360:\n",
    "        print(\"Quadrante 4\")        "
   ]
  },
  {
   "cell_type": "code",
   "execution_count": 30,
   "metadata": {},
   "outputs": [
    {
     "name": "stdout",
     "output_type": "stream",
     "text": [
      "Quadrante 1\n"
     ]
    }
   ],
   "source": [
    "quadrante(30)"
   ]
  },
  {
   "cell_type": "code",
   "execution_count": 31,
   "metadata": {},
   "outputs": [
    {
     "name": "stdout",
     "output_type": "stream",
     "text": [
      "Quadrante 2\n"
     ]
    }
   ],
   "source": [
    "quadrante(95)"
   ]
  },
  {
   "cell_type": "code",
   "execution_count": 32,
   "metadata": {},
   "outputs": [
    {
     "name": "stdout",
     "output_type": "stream",
     "text": [
      "Quadrante 3\n"
     ]
    }
   ],
   "source": [
    "quadrante(189)"
   ]
  },
  {
   "cell_type": "code",
   "execution_count": 33,
   "metadata": {},
   "outputs": [
    {
     "name": "stdout",
     "output_type": "stream",
     "text": [
      "Quadrante 4\n"
     ]
    }
   ],
   "source": [
    "quadrante(276)"
   ]
  },
  {
   "cell_type": "code",
   "execution_count": 34,
   "metadata": {},
   "outputs": [
    {
     "name": "stdout",
     "output_type": "stream",
     "text": [
      "Quadrante 1\n"
     ]
    }
   ],
   "source": [
    "quadrante(1500)"
   ]
  },
  {
   "cell_type": "code",
   "execution_count": 24,
   "metadata": {},
   "outputs": [
    {
     "data": {
      "text/plain": [
       "60"
      ]
     },
     "execution_count": 24,
     "metadata": {},
     "output_type": "execute_result"
    }
   ],
   "source": [
    "int(1500 / 360)\n",
    "1500 - 4 * 360"
   ]
  },
  {
   "cell_type": "code",
   "execution_count": 25,
   "metadata": {},
   "outputs": [
    {
     "data": {
      "text/plain": [
       "60"
      ]
     },
     "execution_count": 25,
     "metadata": {},
     "output_type": "execute_result"
    }
   ],
   "source": [
    "1500 % 360"
   ]
  }
 ],
 "metadata": {
  "kernelspec": {
   "display_name": "fia",
   "language": "python",
   "name": "python3"
  },
  "language_info": {
   "codemirror_mode": {
    "name": "ipython",
    "version": 3
   },
   "file_extension": ".py",
   "mimetype": "text/x-python",
   "name": "python",
   "nbconvert_exporter": "python",
   "pygments_lexer": "ipython3",
   "version": "3.6.0"
  }
 },
 "nbformat": 4,
 "nbformat_minor": 2
}
